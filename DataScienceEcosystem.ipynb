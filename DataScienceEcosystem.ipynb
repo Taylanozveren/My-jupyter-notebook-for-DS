{
 "cells": [
  {
   "attachments": {},
   "cell_type": "markdown",
   "id": "363c1595-8425-4caa-99f8-6e282c701d62",
   "metadata": {},
   "source": [
    "# <span style=\"color:red\">Data Science Tools and Ecosystem</span>\n",
    "## In this notebook, Data Science Tools and Ecosystem are summarized.\n"
   ]
  },
  {
   "cell_type": "markdown",
   "id": "28920c95-1d5e-44c1-af10-658341e433b0",
   "metadata": {},
   "source": [
    "<span style=\"color:blue\">Some of the popular languages that Data Scientists use are:</span>\r\n",
    "\r\n",
    "1. **Python**: Known for its simplicity and readability, Python is widely used in data science for tasks such as data manipulation, analysis, visualization, and machine learning. Popular libraries include pandas, NumPy, SciPy, scikit-learn, and TensorFlow.\r\n",
    "\r\n",
    "2. **R**: R is a language specifically designed for statistical analysis and visualization. It has a rich ecosystem of packages like ggplot2, dplyr, and caret, making it a preferred choice for statisticians and data scientists focusing on statistical modeling.\r\n",
    "\r\n",
    "3. **SQL**: SQL (Structured Query Language) is essential for querying and managing data stored in relational databases. Data scientists use SQL to retrieve, manipulate, and analyze large datasets efficiently. It's a foundational skill for working with databases in data science projects.\r\n"
   ]
  },
  {
   "cell_type": "markdown",
   "id": "91785cfd-741d-4186-8715-0ed516c05583",
   "metadata": {},
   "source": [
    "<span style=\"color:blue\">Some of the commonly used libraries used by Data Scientists include:</span>\n",
    "\n",
    "1. **pandas**: A powerful library for data manipulation and analysis. It provides data structures like DataFrames which are essential for handling structured data.\n",
    "\n",
    "2. **NumPy**: The foundational package for numerical computing in Python. It provides support for arrays, matrices, and many mathematical functions.\n",
    "\n",
    "3. **Matplotlib**: A plotting library used for creating static, animated, and interactive visualizations in Python.\n",
    "\n",
    "4. **scikit-learn**: A machine learning library that provides simple and efficient tools for data mining and data analysis. It includes various classification, regression, and clustering algorithms.\n",
    "\n",
    "5. **TensorFlow**: An open-source framework developed by Google for machine learning and deep learning applications. It provides a comprehensive ecosystem of tools, libraries, and community resources.\n"
   ]
  },
  {
   "cell_type": "markdown",
   "id": "e498595e-7be3-4c9a-808f-34b35d665336",
   "metadata": {},
   "source": [
    "| Data Science Tools |\n",
    "|--------------------|\n",
    "| Jupyter Notebook   |\n",
    "| RStudio            |\n",
    "| Apache Zeppelin    |\n"
   ]
  },
  {
   "cell_type": "markdown",
   "id": "b5b2232c-fc52-4e73-ad71-e77f7ad8bbde",
   "metadata": {},
   "source": [
    "### Below are a few examples of evaluating arithmetic expressions in Python\n"
   ]
  },
  {
   "cell_type": "code",
   "execution_count": 22,
   "id": "f6b9f8ad-e9af-4eb0-8b8a-48c5b0b90d3a",
   "metadata": {},
   "outputs": [
    {
     "data": {
      "text/plain": [
       "17"
      ]
     },
     "execution_count": 22,
     "metadata": {},
     "output_type": "execute_result"
    }
   ],
   "source": [
    "# This is a simple arithmetic expression to multiply then add integers. (comment line for code)\n",
    "(3 * 4) + 5"
   ]
  },
  {
   "cell_type": "code",
   "execution_count": 24,
   "id": "88179ee7-776a-46b8-b5a0-be5cdcf76409",
   "metadata": {},
   "outputs": [
    {
     "data": {
      "text/plain": [
       "3.3333333333333335"
      ]
     },
     "execution_count": 24,
     "metadata": {},
     "output_type": "execute_result"
    }
   ],
   "source": [
    "# This will convert 200 minutes to hours by dividing by 60.\n",
    "200 / 60\n"
   ]
  },
  {
   "cell_type": "markdown",
   "id": "68a8ee6e-6cc3-4920-a38b-85be6cd7d67f",
   "metadata": {},
   "source": [
    "**Objectives:**\n",
    "\n",
    "- List popular languages for Data Science\n",
    "- Introduce commonly used data science libraries\n",
    "- Demonstrate basic arithmetic operations in Python\n",
    "- Show how to convert units (e.g., minutes to hours)\n",
    "- Provide examples of data visualization using ggplot in R\n"
   ]
  },
  {
   "cell_type": "markdown",
   "id": "ef9072d4-9f5b-465e-870a-ea731adfecce",
   "metadata": {},
   "source": [
    "## Author\n",
    "\n",
    "**Taylan Özveren**\n"
   ]
  },
  {
   "cell_type": "code",
   "execution_count": null,
   "id": "457f7bfc-5b4e-4ea5-9c9f-7de6e364bf42",
   "metadata": {},
   "outputs": [],
   "source": []
  }
 ],
 "metadata": {
  "kernelspec": {
   "display_name": "Python 3 (ipykernel)",
   "language": "python",
   "name": "python3"
  },
  "language_info": {
   "codemirror_mode": {
    "name": "ipython",
    "version": 3
   },
   "file_extension": ".py",
   "mimetype": "text/x-python",
   "name": "python",
   "nbconvert_exporter": "python",
   "pygments_lexer": "ipython3",
   "version": "3.12.4"
  }
 },
 "nbformat": 4,
 "nbformat_minor": 5
}
